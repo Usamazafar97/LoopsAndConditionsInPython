{
 "cells": [
  {
   "cell_type": "code",
   "execution_count": 2,
   "metadata": {},
   "outputs": [
    {
     "name": "stdout",
     "output_type": "stream",
     "text": [
      "enter the radius5\n",
      "enter the coordinates3 4\n",
      "the point is on the circle\n"
     ]
    }
   ],
   "source": [
    "radius=input(\"enter the radius\")\n",
    "coordinate1,coordinate2=raw_input(\"enter the coordinates\").split()\n",
    "coordinate1=int(coordinate1)\n",
    "coordinate2=int(coordinate2)\n",
    "x=(((coordinate1**2)+(coordinate2**2) )**(1/2.0))\n",
    "if (x>radius):\n",
    "    print (\"the point is outside the circle\")\n",
    "if (x<radius):\n",
    "    print (\"the point is inside the circle\")\n",
    "if (x==radius):\n",
    "    print (\"the point is on the circle\")"
   ]
  },
  {
   "cell_type": "markdown",
   "metadata": {},
   "source": []
  }
 ],
 "metadata": {
  "kernelspec": {
   "display_name": "Python 2",
   "language": "python",
   "name": "python2"
  },
  "language_info": {
   "codemirror_mode": {
    "name": "ipython",
    "version": 2
   },
   "file_extension": ".py",
   "mimetype": "text/x-python",
   "name": "python",
   "nbconvert_exporter": "python",
   "pygments_lexer": "ipython2",
   "version": "2.7.13"
  }
 },
 "nbformat": 4,
 "nbformat_minor": 2
}
