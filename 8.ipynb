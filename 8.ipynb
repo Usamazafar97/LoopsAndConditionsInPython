{
 "cells": [
  {
   "cell_type": "code",
   "execution_count": 7,
   "metadata": {},
   "outputs": [
    {
     "name": "stdout",
     "output_type": "stream",
     "text": [
      "Following are the packages\n",
      "\n",
      "Package A: For PKR 995 per month 10 hours of access are provided. Additional hours are PKR2.00 per hour.\n",
      "Package B: For PKR104.95 per month 20 hours of access are provided. Additional hours are PKR1.00 per hour.\n",
      "Package C: For PKR 700.95 per month unlimited access is provided.\n",
      "enter the package A\n",
      "enter the no. of hours used10\n",
      "Bill =  995\n",
      "Save if select Packge B =  890.05\n",
      "Save if select Packge C =  294.05\n"
     ]
    }
   ],
   "source": [
    "A=0\n",
    "B=0\n",
    "C=0\n",
    "billForA=0\n",
    "billForB=0\n",
    "billForC=0\n",
    "print\"Following are the packages\\n\"\n",
    "print\"Package A: For PKR 995 per month 10 hours of access are provided. Additional hours are PKR2.00 per hour.\"\n",
    "print\"Package B: For PKR104.95 per month 20 hours of access are provided. Additional hours are PKR1.00 per hour.\"\n",
    "print\"Package C: For PKR 700.95 per month unlimited access is provided.\"\n",
    "package=raw_input(\"enter the package \")\n",
    "\n",
    "\n",
    "if(package=='A' or package=='B' or package=='C' ):\n",
    "   \n",
    "    hours=input(\"enter the no. of hours used\")\n",
    "\n",
    "    if(hours<=744):\n",
    "        if(hours<10):\n",
    "            billForA=995\n",
    "        else:\n",
    "            billForA=995+((hours-10)*2)\n",
    "        \n",
    "        if(hours<20):\n",
    "            billForB= 104.95\n",
    "        else:\n",
    "            billForB=104.95+((hours-10)*1)\n",
    "\n",
    "        billForC= 700.95\n",
    "\n",
    "\n",
    "        if(package=='A'):\n",
    "            print\"Bill = \",billForA\n",
    "            print\"Save if select Packge B = \",billForA-billForB\n",
    "            print\"Save if select Packge C = \",billForA-billForC\n",
    "        elif(package =='B'):\n",
    "            print\"Bill = \",billForB\n",
    "            print\"Save if select Packge B = \",billForB-billForC\n",
    "        elif(package =='C'):\n",
    "            print\"Bill = \",billForC\n",
    "    else:\n",
    "        print(\"Hours cannot exceed from 744\")\n",
    "else:\n",
    "    print\"invalid input\"\n",
    "\n",
    "\n",
    "    \n"
   ]
  },
  {
   "cell_type": "code",
   "execution_count": null,
   "metadata": {
    "collapsed": true
   },
   "outputs": [],
   "source": []
  }
 ],
 "metadata": {
  "kernelspec": {
   "display_name": "Python 2",
   "language": "python",
   "name": "python2"
  },
  "language_info": {
   "codemirror_mode": {
    "name": "ipython",
    "version": 2
   },
   "file_extension": ".py",
   "mimetype": "text/x-python",
   "name": "python",
   "nbconvert_exporter": "python",
   "pygments_lexer": "ipython2",
   "version": "2.7.13"
  }
 },
 "nbformat": 4,
 "nbformat_minor": 2
}
