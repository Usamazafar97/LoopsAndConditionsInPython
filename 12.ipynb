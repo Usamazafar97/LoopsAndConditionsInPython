{
 "cells": [
  {
   "cell_type": "code",
   "execution_count": 11,
   "metadata": {},
   "outputs": [
    {
     "name": "stdout",
     "output_type": "stream",
     "text": [
      "Enter the number of books that you purchased this month34\n",
      "You are awarded with 60 points\n"
     ]
    }
   ],
   "source": [
    "Purchase=input(\"Enter the number of books that you purchased this month\")\n",
    "if (Purchase==0):\n",
    "    print (\"You are awarded with 0 points\")\n",
    "if (Purchase==1):\n",
    "    print (\"You are awarded with 5 points\")\n",
    "if (Purchase==2):\n",
    "    print (\"You are awarded with 15 points\")\n",
    "if (Purchase==3):\n",
    "    print (\"You are awarded with 30 points\")\n",
    "if (Purchase>=4):\n",
    "    print (\"You are awarded with 60 points\")"
   ]
  },
  {
   "cell_type": "code",
   "execution_count": null,
   "metadata": {
    "collapsed": true
   },
   "outputs": [],
   "source": []
  }
 ],
 "metadata": {
  "kernelspec": {
   "display_name": "Python 2",
   "language": "python",
   "name": "python2"
  },
  "language_info": {
   "codemirror_mode": {
    "name": "ipython",
    "version": 2
   },
   "file_extension": ".py",
   "mimetype": "text/x-python",
   "name": "python",
   "nbconvert_exporter": "python",
   "pygments_lexer": "ipython2",
   "version": "2.7.13"
  }
 },
 "nbformat": 4,
 "nbformat_minor": 2
}
