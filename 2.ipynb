{
 "cells": [
  {
   "cell_type": "code",
   "execution_count": 2,
   "metadata": {
    "collapsed": false
   },
   "outputs": [
    {
     "name": "stdout",
     "output_type": "stream",
     "text": [
      "enter time in seconds3700\n",
      "number of seconnds in hrs are 1.02777777778\n"
     ]
    }
   ],
   "source": [
    "sec=input(\"enter time in seconds\")\n",
    "if(sec>=60 and sec<3600):\n",
    "    min=sec/60.00\n",
    "    print(\"number of seconnds in min are\"),min\n",
    "elif(sec>=3600 and sec<86400):\n",
    "    hrs=sec/3600.00\n",
    "    print(\"number of seconnds in hrs are\"),hrs\n",
    "elif(sec>86400 or sec==86400):\n",
    "    day=sec/86400.00\n",
    "    print(\"number of seconnds in day are\"),day"
   ]
  },
  {
   "cell_type": "code",
   "execution_count": null,
   "metadata": {
    "collapsed": true
   },
   "outputs": [],
   "source": []
  }
 ],
 "metadata": {
  "kernelspec": {
   "display_name": "Python 2",
   "language": "python",
   "name": "python2"
  },
  "language_info": {
   "codemirror_mode": {
    "name": "ipython",
    "version": 2
   },
   "file_extension": ".py",
   "mimetype": "text/x-python",
   "name": "python",
   "nbconvert_exporter": "python",
   "pygments_lexer": "ipython2",
   "version": "2.7.12"
  }
 },
 "nbformat": 4,
 "nbformat_minor": 1
}
