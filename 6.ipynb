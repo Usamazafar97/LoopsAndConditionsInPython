{
 "cells": [
  {
   "cell_type": "code",
   "execution_count": 5,
   "metadata": {},
   "outputs": [
    {
     "name": "stdout",
     "output_type": "stream",
     "text": [
      "starting time of call = 19.00\n",
      "How Long the Call Last? = 7\n",
      "3.85\n"
     ]
    }
   ],
   "source": [
    "x=float(input(\"starting time of call = \"))\n",
    "charges=0\n",
    "integral=int(x)\n",
    "minutes=input(\"How Long the Call Last? = \")\n",
    "fractional=x-integral\n",
    "fractional_int = int(fractional)\n",
    "\n",
    "if((integral<0 or integral>23) or (fractional<0.0 or fractional>0.59)):\n",
    "    print\"invalid time\"\n",
    "else:\n",
    "    if((integral>=0 and integral<=06) and (fractional>=0.0 and fractional<=0.59)):\n",
    "        charges=minutes*0.12\n",
    "        print charges\n",
    "    elif((integral>=07 and integral<=18) and (fractional>=0.0 and fractional<=0.59)):\n",
    "        charges=minutes*0.55\n",
    "        print charges\n",
    "    elif((integral==19 and fractional==0.0)):\n",
    "        charges=minutes*0.55\n",
    "        print charges\n",
    "    elif((integral>=19 and integral<=23) and (fractional>0.0 and fractional<=0.59)):\n",
    "        charges=minutes*0.35\n",
    "        print charges"
   ]
  },
  {
   "cell_type": "code",
   "execution_count": null,
   "metadata": {
    "collapsed": true
   },
   "outputs": [],
   "source": []
  }
 ],
 "metadata": {
  "kernelspec": {
   "display_name": "Python 2",
   "language": "python",
   "name": "python2"
  },
  "language_info": {
   "codemirror_mode": {
    "name": "ipython",
    "version": 2
   },
   "file_extension": ".py",
   "mimetype": "text/x-python",
   "name": "python",
   "nbconvert_exporter": "python",
   "pygments_lexer": "ipython2",
   "version": "2.7.13"
  }
 },
 "nbformat": 4,
 "nbformat_minor": 2
}
