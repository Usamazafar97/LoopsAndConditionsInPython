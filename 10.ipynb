{
 "cells": [
  {
   "cell_type": "code",
   "execution_count": 9,
   "metadata": {},
   "outputs": [
    {
     "name": "stdout",
     "output_type": "stream",
     "text": [
      "These are the three primary colors :\n",
      "\n",
      "red\n",
      "\n",
      "blue\n",
      "\n",
      "yellow\n",
      "Enter the names of two primary colors to mixred blue\n",
      "secondary = Purple\n"
     ]
    }
   ],
   "source": [
    "print (\"These are the three primary colors :\\n\")\n",
    "print (\"red\\n\")\n",
    "print (\"blue\\n\")\n",
    "print (\"yellow\") \n",
    "primary1,primary2=raw_input(\"Enter the names of two primary colors to mix\").split()\n",
    "if ((primary1==\"red\" or primary1==\"blue\")  and (primary2==\"blue\" or primary2==\"red\")):\n",
    "    print (\"secondary = Purple\")\n",
    "elif ((primary1==\"red\" or primary1==\"yellow\") and (primary2==\"yellow\" or primary2==\"red\")):\n",
    "    print (\"secondary = Orange\")\n",
    "elif ((primary1==\"yellow\"  or primary1==\"blue\") and (primary2==\"blue\" or primary2==\"yellow\")):\n",
    "    print (\"secondary = Green\")"
   ]
  },
  {
   "cell_type": "code",
   "execution_count": null,
   "metadata": {
    "collapsed": true
   },
   "outputs": [],
   "source": []
  }
 ],
 "metadata": {
  "kernelspec": {
   "display_name": "Python 2",
   "language": "python",
   "name": "python2"
  },
  "language_info": {
   "codemirror_mode": {
    "name": "ipython",
    "version": 2
   },
   "file_extension": ".py",
   "mimetype": "text/x-python",
   "name": "python",
   "nbconvert_exporter": "python",
   "pygments_lexer": "ipython2",
   "version": "2.7.13"
  }
 },
 "nbformat": 4,
 "nbformat_minor": 2
}
