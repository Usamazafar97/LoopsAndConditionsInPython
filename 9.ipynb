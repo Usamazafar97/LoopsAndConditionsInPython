{
 "cells": [
  {
   "cell_type": "code",
   "execution_count": 8,
   "metadata": {},
   "outputs": [
    {
     "name": "stdout",
     "output_type": "stream",
     "text": [
      "enter the your time to complete the work4\n",
      "You must increase your speed\n"
     ]
    }
   ],
   "source": [
    "time=input(\"enter the your time to complete the work\")\n",
    "if(time>=2 and time<=3):\n",
    "    print (\"You are Highly efficient\")\n",
    "    \n",
    "if(time>3 and time<=4):\n",
    "    print (\"You must increase your speed\")\n",
    "    \n",
    "if(time>4 and time<5):\n",
    "    print (\"you must get training to increase your speed\")\n",
    "    \n",
    "if(time>=5):\n",
    "    print (\"you must leave the company\")"
   ]
  },
  {
   "cell_type": "code",
   "execution_count": null,
   "metadata": {
    "collapsed": true
   },
   "outputs": [],
   "source": []
  }
 ],
 "metadata": {
  "kernelspec": {
   "display_name": "Python 2",
   "language": "python",
   "name": "python2"
  },
  "language_info": {
   "codemirror_mode": {
    "name": "ipython",
    "version": 2
   },
   "file_extension": ".py",
   "mimetype": "text/x-python",
   "name": "python",
   "nbconvert_exporter": "python",
   "pygments_lexer": "ipython2",
   "version": "2.7.13"
  }
 },
 "nbformat": 4,
 "nbformat_minor": 2
}
