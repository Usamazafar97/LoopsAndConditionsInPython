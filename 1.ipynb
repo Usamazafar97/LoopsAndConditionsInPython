{
 "cells": [
  {
   "cell_type": "code",
   "execution_count": 1,
   "metadata": {
    "collapsed": false
   },
   "outputs": [
    {
     "name": "stdout",
     "output_type": "stream",
     "text": [
      "enter weight150\n",
      "enter height5.5\n",
      "overweight\n"
     ]
    }
   ],
   "source": [
    "x=input(\"enter weight\")\n",
    "y=input(\"enter height\")\n",
    "BMI=x*(703/(y**2))\n",
    "if(BMI<18.5):\n",
    "    print(\"underweight\")\n",
    "if(BMI>=18.5 and BMI<=25):\n",
    "    print(\"optimalweight\")\n",
    "if(BMI>25):\n",
    "    print(\"overweight\")"
   ]
  },
  {
   "cell_type": "code",
   "execution_count": null,
   "metadata": {
    "collapsed": true
   },
   "outputs": [],
   "source": []
  }
 ],
 "metadata": {
  "kernelspec": {
   "display_name": "Python 2",
   "language": "python",
   "name": "python2"
  },
  "language_info": {
   "codemirror_mode": {
    "name": "ipython",
    "version": 2
   },
   "file_extension": ".py",
   "mimetype": "text/x-python",
   "name": "python",
   "nbconvert_exporter": "python",
   "pygments_lexer": "ipython2",
   "version": "2.7.12"
  }
 },
 "nbformat": 4,
 "nbformat_minor": 1
}
