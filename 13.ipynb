{
 "cells": [
  {
   "cell_type": "code",
   "execution_count": 13,
   "metadata": {},
   "outputs": [
    {
     "name": "stdout",
     "output_type": "stream",
     "text": [
      "enter month2\n",
      "enter day29\n",
      "enter year2016\n",
      "this is a leap year\n",
      "valid date\n"
     ]
    }
   ],
   "source": [
    "month=input(\"enter month\")\n",
    "day=input(\"enter day\")\n",
    "year=input(\"enter year\")\n",
    "test1 = (day>=1 and day<=31)\n",
    "test2 = (month>=1 and month<=12)\n",
    "if((day>=1 and day<=31) and (month>=1 and month<=12)):\n",
    "    if(month==1 or month==3 or month==5 or month==7 or month==8 or month==10 or month==12):\n",
    "        if(day>=1 and day<=31):\n",
    "            print\"valid date\"\n",
    "        else:\n",
    "            print\"invalid date\"\n",
    "    elif(month==4 or month==6 or month==9 or month==11 ):\n",
    "        if(day>=1 and day<=30):\n",
    "            print\"valid date\"\n",
    "        else:\n",
    "            print\"invalid date\"\n",
    "    elif(month==2):\n",
    "        if(day>=1 and day<=28):\n",
    "             print\"valid date\"\n",
    "        elif(day==29):\n",
    "            if(year%4==0):\n",
    "                if(year%100==0):\n",
    "                    if(year%400==0):\n",
    "                        print\"the year is leap year\"\n",
    "                        print\"valid date\"\n",
    "                    else:\n",
    "                        print\"this is not a leap year\"\n",
    "                        print\"invalid date\"\n",
    "                else:\n",
    "                    print\"this is a leap year\"\n",
    "                    print\"valid date\"\n",
    "            else:\n",
    "                print\"this is not a leap year\"\n",
    "                print\"invalid date\"\n",
    "        else:\n",
    "            print\"invalid date\"\n",
    "else:\n",
    "    print\"invalid date\""
   ]
  },
  {
   "cell_type": "code",
   "execution_count": null,
   "metadata": {
    "collapsed": true
   },
   "outputs": [],
   "source": []
  }
 ],
 "metadata": {
  "kernelspec": {
   "display_name": "Python 2",
   "language": "python",
   "name": "python2"
  },
  "language_info": {
   "codemirror_mode": {
    "name": "ipython",
    "version": 2
   },
   "file_extension": ".py",
   "mimetype": "text/x-python",
   "name": "python",
   "nbconvert_exporter": "python",
   "pygments_lexer": "ipython2",
   "version": "2.7.13"
  }
 },
 "nbformat": 4,
 "nbformat_minor": 2
}
