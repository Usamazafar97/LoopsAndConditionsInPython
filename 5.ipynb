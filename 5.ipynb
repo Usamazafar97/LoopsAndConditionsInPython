{
 "cells": [
  {
   "cell_type": "code",
   "execution_count": 4,
   "metadata": {},
   "outputs": [
    {
     "name": "stdout",
     "output_type": "stream",
     "text": [
      "\t\tGeometry Calculator\n",
      "1. Calculate the Area of a Circle\n",
      "\n",
      "2. Calculate the Area of a Rectangle\n",
      "\n",
      "3. Calculate the Area of a Triangle\n",
      "\n",
      "4. Quit\n",
      "Enter your choice (1-4):3\n",
      "Enter the length of the triangles base4\n",
      "Enter the length of the triangles height2\n",
      "4.0\n"
     ]
    }
   ],
   "source": [
    "print(\"\\t\\tGeometry Calculator\")\n",
    "print(\"1. Calculate the Area of a Circle\\n\")\n",
    "print(\"2. Calculate the Area of a Rectangle\\n\")\n",
    "print(\"3. Calculate the Area of a Triangle\\n\")\n",
    "print(\"4. Quit\")\n",
    "x=input(\"Enter your choice (1-4):\")\n",
    "if(x==1):\n",
    "    r=input(\"the radius of the circle\")\n",
    "    area =(3.14*(r**2))\n",
    "    print area\n",
    "if(x==2):\n",
    "    length=input(\"Enter the length of the rectangle\")\n",
    "    width=input(\"Enter the width of the rectangle\")\n",
    "    area = length * width\n",
    "    print area  \n",
    "if(x==3):\n",
    "    base=input(\"Enter the length of the triangles base\")\n",
    "    height=input(\"Enter the length of the triangles height\")\n",
    "    area=(base * height) * .5\n",
    "    print area \n",
    "if(x==4):\n",
    "    (quit)\n",
    "if(x<1 and x>4):\n",
    "    print(\"error! invalid number\")"
   ]
  },
  {
   "cell_type": "code",
   "execution_count": null,
   "metadata": {
    "collapsed": true
   },
   "outputs": [],
   "source": []
  }
 ],
 "metadata": {
  "kernelspec": {
   "display_name": "Python 2",
   "language": "python",
   "name": "python2"
  },
  "language_info": {
   "codemirror_mode": {
    "name": "ipython",
    "version": 2
   },
   "file_extension": ".py",
   "mimetype": "text/x-python",
   "name": "python",
   "nbconvert_exporter": "python",
   "pygments_lexer": "ipython2",
   "version": "2.7.13"
  }
 },
 "nbformat": 4,
 "nbformat_minor": 2
}
