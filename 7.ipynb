{
 "cells": [
  {
   "cell_type": "code",
   "execution_count": 6,
   "metadata": {},
   "outputs": [
    {
     "name": "stdout",
     "output_type": "stream",
     "text": [
      "\t\tCONVERSION\n",
      "I. Convert from inches to centimeters.\n",
      "\n",
      "G. Convert from gallons to liters.\n",
      "\n",
      "M. Convert from mile to kilometer.\n",
      "\n",
      "P. Convert from pound to kilogram.\n",
      "Enter The type of conversionM\n",
      "Enter distance in mile34\n",
      "km : 54.706\n"
     ]
    }
   ],
   "source": [
    "print(\"\\t\\tCONVERSION\")\n",
    "print(\"I. Convert from inches to centimeters.\\n\")\n",
    "print(\"G. Convert from gallons to liters.\\n\")\n",
    "print(\"M. Convert from mile to kilometer.\\n\")\n",
    "print(\"P. Convert from pound to kilogram.\")\n",
    "x=raw_input(\"Enter The type of conversion\")\n",
    "if(x=='I'):\n",
    "    inches=input(\"Enter height in inches):\")\n",
    "    centimeters = inches/2.54\n",
    "    print (\"centimeters :\"),centimeters\n",
    "elif(x=='G'):\n",
    "    gallons=input(\"Enter amount of liquid in gallons\")\n",
    "    litres=gallons*3.78\n",
    "    print (\"litres :\"),litres\n",
    "elif(x=='M'):\n",
    "    mile=input(\"Enter distance in mile\")\n",
    "    km=mile*1.609\n",
    "    print (\"km :\"),km\n",
    "elif(x=='P'):\n",
    "    pound=input(\"Enter weight in pound\")\n",
    "    kilogram=0.45*pound\n",
    "    print (\"kilogram :\"),kilogram\n",
    "else:\n",
    "    print(\"error! invalid number\")"
   ]
  },
  {
   "cell_type": "code",
   "execution_count": null,
   "metadata": {
    "collapsed": true
   },
   "outputs": [],
   "source": []
  }
 ],
 "metadata": {
  "kernelspec": {
   "display_name": "Python 2",
   "language": "python",
   "name": "python2"
  },
  "language_info": {
   "codemirror_mode": {
    "name": "ipython",
    "version": 2
   },
   "file_extension": ".py",
   "mimetype": "text/x-python",
   "name": "python",
   "nbconvert_exporter": "python",
   "pygments_lexer": "ipython2",
   "version": "2.7.13"
  }
 },
 "nbformat": 4,
 "nbformat_minor": 2
}
