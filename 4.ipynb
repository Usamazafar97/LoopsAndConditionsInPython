{
 "cells": [
  {
   "cell_type": "code",
   "execution_count": 3,
   "metadata": {},
   "outputs": [
    {
     "name": "stdout",
     "output_type": "stream",
     "text": [
      "Enter the number of units sold55\n",
      "units_purchased=55  discount=2178.0  net_price=3267.0  \n"
     ]
    }
   ],
   "source": [
    "units_purchased=input(\"Enter the number of units sold\")\n",
    "total_cost=(units_purchased*99)\n",
    "if (units_purchased<10 ):\n",
    "    print \"units_purchased={}  \".format( units_purchased)+\"total_cost={}  \".format(total_cost)\n",
    "if (units_purchased>=10 and units_purchased<=19):\n",
    "    discount=(total_cost*0.2)\n",
    "    net_price=total_cost - discount\n",
    "    print \"units_purchased={}  \".format( units_purchased)+\"discount={}  \".format(discount)+\"net_price={}  \".format(net_price)\n",
    "elif (units_purchased>=20 and units_purchased<=49):\n",
    "    discount=(total_cost*0.3)\n",
    "    net_price=total_cost - discount\n",
    "    print \"units_purchased={}  \".format( units_purchased)+\"discount={}  \".format(discount)+\"net_price={}  \".format(net_price)\n",
    "elif (units_purchased>=50 and units_purchased<=99):\n",
    "    discount=(total_cost*0.4)\n",
    "    net_price=total_cost - discount\n",
    "    print \"units_purchased={}  \".format( units_purchased)+\"discount={}  \".format(discount)+\"net_price={}  \".format(net_price)\n",
    "elif (units_purchased>=100 ):\n",
    "    discount=(total_cost*0.5)\n",
    "    net_price=total_cost - discount\n",
    "    print \"units_purchased={}  \".format( units_purchased)+\"discount={}  \".format(discount)+\"net_price={}  \".format(net_price)"
   ]
  },
  {
   "cell_type": "code",
   "execution_count": null,
   "metadata": {
    "collapsed": true
   },
   "outputs": [],
   "source": []
  }
 ],
 "metadata": {
  "kernelspec": {
   "display_name": "Python 2",
   "language": "python",
   "name": "python2"
  },
  "language_info": {
   "codemirror_mode": {
    "name": "ipython",
    "version": 2
   },
   "file_extension": ".py",
   "mimetype": "text/x-python",
   "name": "python",
   "nbconvert_exporter": "python",
   "pygments_lexer": "ipython2",
   "version": "2.7.13"
  }
 },
 "nbformat": 4,
 "nbformat_minor": 2
}
