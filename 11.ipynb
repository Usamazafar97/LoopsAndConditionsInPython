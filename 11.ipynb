{
 "cells": [
  {
   "cell_type": "code",
   "execution_count": 10,
   "metadata": {},
   "outputs": [
    {
     "name": "stdout",
     "output_type": "stream",
     "text": [
      "enter the month from 1 to 12=7\n",
      "enter the day from 1 t0 31=23\n",
      "season =summer\n"
     ]
    }
   ],
   "source": [
    "month=input(\"enter the month from 1 to 12=\")\n",
    "if(month<=0 or month>=13):\n",
    "    print \"invalid date\"\n",
    "    exit()\n",
    "day=input(\"enter the day from 1 t0 31=\")\n",
    "if(day<=0 or day>=32):\n",
    "    print \"invalid date\"\n",
    "    exit()\n",
    "if((month==12 and (day>=16 or day<=31)) or (month==1 and (day>=1 or day<=31)) or (month==2 and (day>=1 or day<=31)) or(month==3 and (day>=1 or day<=15))):\n",
    "    print\" season =winter\"\n",
    "if((month==3 and (day>=16 or day<=31)) or (month==4 and (date>=1 or day<=31)) or (month==5 and (date>=1 or day<=31)) or(month==6 and (day>=1 or day<=15))):\n",
    "    print\"season =spring\"\n",
    "if((month==6 and (day>=16 or day<=31)) or (month==7 and (day>=1 or day<=31)) or (month==8 and (date>=1 or day<=31)) or(month==9 and (day>=1 or day<=15))):\n",
    "    print\"season =summer\"\n",
    "if((month==9 and (day>=16 or day<=31)) or (month==10 and (day>=1 or day<=31)) or (month==11 and (day>=1 or day<=31)) or(month==12 and (day>=1 or day<=15))):\n",
    "    print\"season =fall\""
   ]
  },
  {
   "cell_type": "code",
   "execution_count": null,
   "metadata": {
    "collapsed": true
   },
   "outputs": [],
   "source": []
  }
 ],
 "metadata": {
  "kernelspec": {
   "display_name": "Python 2",
   "language": "python",
   "name": "python2"
  },
  "language_info": {
   "codemirror_mode": {
    "name": "ipython",
    "version": 2
   },
   "file_extension": ".py",
   "mimetype": "text/x-python",
   "name": "python",
   "nbconvert_exporter": "python",
   "pygments_lexer": "ipython2",
   "version": "2.7.13"
  }
 },
 "nbformat": 4,
 "nbformat_minor": 2
}
